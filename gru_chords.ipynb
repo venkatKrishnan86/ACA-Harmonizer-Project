{
 "cells": [
  {
   "cell_type": "code",
   "execution_count": 1,
   "metadata": {},
   "outputs": [],
   "source": [
    "import numpy as np\n",
    "import torch\n",
    "from torch.utils.data import Dataset, DataLoader\n",
    "from torch import nn\n",
    "import matplotlib.pyplot as plt\n",
    "import librosa\n",
    "import librosa.display\n",
    "from tqdm import tqdm\n",
    "import json\n",
    "import os\n",
    "from sklearn.model_selection import train_test_split"
   ]
  },
  {
   "cell_type": "code",
   "execution_count": 2,
   "metadata": {},
   "outputs": [
    {
     "data": {
      "text/plain": [
       "<torch._C.Generator at 0x129552150>"
      ]
     },
     "execution_count": 2,
     "metadata": {},
     "output_type": "execute_result"
    }
   ],
   "source": [
    "seed = 1\n",
    "torch.manual_seed(seed)"
   ]
  },
  {
   "cell_type": "code",
   "execution_count": 3,
   "metadata": {},
   "outputs": [],
   "source": [
    "class ChordDetector(Dataset):\n",
    "    def __init__(self, train:bool, chord_template:dict = json.load(open('./chord_templates.json')), data_location:str = './data/', sr = 44100, hop = 256):\n",
    "        super(ChordDetector, self).__init__()\n",
    "        self.chord_template = chord_template\n",
    "        self.data = []\n",
    "        self.sr = sr\n",
    "        self.hop = hop\n",
    "        for file in os.listdir(data_location):\n",
    "            chord_true = torch.Tensor(self.chord_template[self._extract_chord_name(file)])\n",
    "            y, sr = librosa.load(data_location+file, sr = sr)\n",
    "            chroma = torch.Tensor(librosa.feature.chroma_cens(y=y, sr = sr, hop_length=hop)).T\n",
    "            self.data.append((chroma, chord_true))\n",
    "        X_train, X_test, _, _ = train_test_split(self.data, self.data, test_size=0.2, random_state=seed)\n",
    "        if train:\n",
    "            self.data = X_train\n",
    "        else:\n",
    "            self.data = X_test\n",
    "\n",
    "    def _extract_chord_name(self, file):\n",
    "        main = file[:file.index('-')]\n",
    "        if file[file.index('-')+2]=='i':\n",
    "            return main+'m'\n",
    "        return main\n",
    "    \n",
    "    def __len__(self):\n",
    "        return len(self.data)\n",
    "\n",
    "    def __getitem__(self, index):\n",
    "        return self.data[index]"
   ]
  },
  {
   "cell_type": "code",
   "execution_count": 4,
   "metadata": {},
   "outputs": [],
   "source": [
    "train_data = ChordDetector(train=True)\n",
    "test_data = ChordDetector(train=False)"
   ]
  },
  {
   "cell_type": "code",
   "execution_count": 5,
   "metadata": {},
   "outputs": [],
   "source": [
    "train_loader = DataLoader(\n",
    "    train_data, \n",
    "    batch_size=64,\n",
    "    shuffle=True\n",
    ")\n",
    "test_loader = DataLoader(\n",
    "    test_data, \n",
    "    batch_size=64,\n",
    "    shuffle=True\n",
    ")"
   ]
  },
  {
   "cell_type": "code",
   "execution_count": 6,
   "metadata": {},
   "outputs": [],
   "source": [
    "class GRU(nn.Module):\n",
    "    def __init__(self, input_size = 12, hidden_size = 100, num_layers = 1, num_classes = 12, bidirectional = True) -> None:\n",
    "        super(GRU, self).__init__()\n",
    "        self.num_layers = num_layers\n",
    "        self.hidden_size = hidden_size\n",
    "        self.bidirectional = bidirectional\n",
    "        \n",
    "        self.gru = nn.GRU(input_size, hidden_size, num_layers, batch_first = True, bidirectional=bidirectional)\n",
    "        if(bidirectional):\n",
    "            self.fc = nn.Linear(hidden_size*2, num_classes)\n",
    "        else:\n",
    "            self.fc = nn.Linear(hidden_size, num_classes)\n",
    "\n",
    "    def forward(self, x):\n",
    "        if(self.bidirectional):\n",
    "            h0 = torch.zeros(2*self.num_layers, x.size(0), self.hidden_size)\n",
    "        else:\n",
    "            h0 = torch.zeros(self.num_layers, x.size(0), self.hidden_size)\n",
    "        out, _ = self.gru(x, h0)\n",
    "        out = out[:,-1,:] # Since we only want the output of the last cell\n",
    "        out = self.fc(out)\n",
    "        return(out)"
   ]
  },
  {
   "cell_type": "code",
   "execution_count": 7,
   "metadata": {},
   "outputs": [],
   "source": [
    "model = GRU()\n",
    "criterion = nn.CrossEntropyLoss()\n",
    "optimizer = torch.optim.Adam(model.parameters(), lr = 2e-2)\n",
    "scheduler = torch.optim.lr_scheduler.StepLR(optimizer, 1, 0.995)"
   ]
  },
  {
   "cell_type": "code",
   "execution_count": 8,
   "metadata": {},
   "outputs": [],
   "source": [
    "EPOCHS = 100\n",
    "device = torch.device('cpu')"
   ]
  },
  {
   "cell_type": "code",
   "execution_count": 9,
   "metadata": {},
   "outputs": [
    {
     "name": "stdout",
     "output_type": "stream",
     "text": [
      "Epoch 1/100; Loss: 7.5137\n",
      "Epoch 2/100; Loss: 7.4233\n",
      "Epoch 3/100; Loss: 7.1956\n",
      "Epoch 4/100; Loss: 6.9799\n",
      "Epoch 5/100; Loss: 6.7120\n",
      "Epoch 6/100; Loss: 6.7776\n",
      "Epoch 7/100; Loss: 6.7541\n",
      "Epoch 8/100; Loss: 6.7944\n",
      "Epoch 9/100; Loss: 6.3630\n",
      "Epoch 10/100; Loss: 6.7973\n",
      "Epoch 11/100; Loss: 6.3375\n",
      "Epoch 12/100; Loss: 5.4183\n",
      "Epoch 13/100; Loss: 5.3071\n",
      "Epoch 14/100; Loss: 4.7477\n",
      "Epoch 15/100; Loss: 4.4834\n",
      "Epoch 16/100; Loss: 4.3284\n",
      "Epoch 17/100; Loss: 4.0348\n",
      "Epoch 18/100; Loss: 4.1537\n",
      "Epoch 19/100; Loss: 3.7965\n",
      "Epoch 20/100; Loss: 3.9470\n",
      "Epoch 21/100; Loss: 3.8282\n",
      "Epoch 22/100; Loss: 3.7731\n",
      "Epoch 23/100; Loss: 3.6572\n",
      "Epoch 24/100; Loss: 3.6196\n",
      "Epoch 25/100; Loss: 3.4905\n",
      "Epoch 26/100; Loss: 3.4854\n",
      "Epoch 27/100; Loss: 3.4821\n",
      "Epoch 28/100; Loss: 3.4250\n",
      "Epoch 29/100; Loss: 3.3878\n",
      "Epoch 30/100; Loss: 3.3859\n",
      "Epoch 31/100; Loss: 3.3904\n",
      "Epoch 32/100; Loss: 3.3512\n",
      "Epoch 33/100; Loss: 4.1166\n",
      "Epoch 34/100; Loss: 3.4996\n",
      "Epoch 35/100; Loss: 3.5634\n",
      "Epoch 36/100; Loss: 3.5258\n",
      "Epoch 37/100; Loss: 3.4822\n",
      "Epoch 38/100; Loss: 3.4517\n",
      "Epoch 39/100; Loss: 3.4583\n",
      "Epoch 40/100; Loss: 3.5453\n",
      "Epoch 41/100; Loss: 3.4054\n",
      "Epoch 42/100; Loss: 3.5536\n",
      "Epoch 43/100; Loss: 3.5508\n",
      "Epoch 44/100; Loss: 3.4124\n",
      "Epoch 45/100; Loss: 3.4646\n",
      "Epoch 46/100; Loss: 3.4415\n",
      "Epoch 47/100; Loss: 3.4248\n",
      "Epoch 48/100; Loss: 3.3876\n",
      "Epoch 49/100; Loss: 3.3756\n",
      "Epoch 50/100; Loss: 3.3951\n",
      "Epoch 51/100; Loss: 3.3591\n",
      "Epoch 52/100; Loss: 3.3647\n",
      "Epoch 53/100; Loss: 3.3428\n",
      "Epoch 54/100; Loss: 3.3378\n",
      "Epoch 55/100; Loss: 3.4130\n",
      "Epoch 56/100; Loss: 3.3851\n",
      "Epoch 57/100; Loss: 3.4901\n",
      "Epoch 58/100; Loss: 4.2142\n",
      "Epoch 59/100; Loss: 3.9927\n",
      "Epoch 60/100; Loss: 3.8108\n",
      "Epoch 61/100; Loss: 3.6519\n",
      "Epoch 62/100; Loss: 3.5665\n",
      "Epoch 63/100; Loss: 3.5258\n",
      "Epoch 64/100; Loss: 3.4816\n",
      "Epoch 65/100; Loss: 3.5072\n",
      "Epoch 66/100; Loss: 3.4503\n",
      "Epoch 67/100; Loss: 3.3967\n",
      "Epoch 68/100; Loss: 3.4095\n",
      "Epoch 69/100; Loss: 3.4117\n",
      "Epoch 70/100; Loss: 3.3638\n",
      "Epoch 71/100; Loss: 3.3679\n",
      "Epoch 72/100; Loss: 3.3413\n",
      "Epoch 73/100; Loss: 3.3304\n",
      "Epoch 74/100; Loss: 3.3516\n",
      "Epoch 75/100; Loss: 3.3408\n",
      "Epoch 76/100; Loss: 3.3249\n",
      "Epoch 77/100; Loss: 3.3358\n",
      "Epoch 78/100; Loss: 3.3329\n",
      "Epoch 79/100; Loss: 3.3319\n",
      "Epoch 80/100; Loss: 3.3214\n",
      "Epoch 81/100; Loss: 3.3324\n",
      "Epoch 82/100; Loss: 3.3209\n",
      "Epoch 83/100; Loss: 3.3182\n",
      "Epoch 84/100; Loss: 3.3208\n",
      "Epoch 85/100; Loss: 3.3244\n",
      "Epoch 86/100; Loss: 3.3234\n",
      "Epoch 87/100; Loss: 3.3120\n",
      "Epoch 88/100; Loss: 3.3132\n",
      "Epoch 89/100; Loss: 3.3169\n",
      "Epoch 90/100; Loss: 3.3151\n",
      "Epoch 91/100; Loss: 3.3157\n",
      "Epoch 92/100; Loss: 3.3103\n",
      "Epoch 93/100; Loss: 3.3135\n",
      "Epoch 94/100; Loss: 3.3174\n",
      "Epoch 95/100; Loss: 3.3154\n",
      "Epoch 96/100; Loss: 3.3099\n",
      "Epoch 97/100; Loss: 3.3156\n",
      "Epoch 98/100; Loss: 3.3111\n",
      "Epoch 99/100; Loss: 3.3123\n",
      "Epoch 100/100; Loss: 3.3089\n"
     ]
    }
   ],
   "source": [
    "for epoch in range(EPOCHS):\n",
    "    for i, (chroma, labels) in enumerate(train_loader):\n",
    "        chroma = chroma.to(device)\n",
    "        labels = labels.to(device)\n",
    "\n",
    "        outputs = model(chroma)\n",
    "        loss = criterion(outputs, labels)\n",
    "\n",
    "        optimizer.zero_grad()\n",
    "        loss.backward()\n",
    "        optimizer.step()\n",
    "    scheduler.step()\n",
    "    print(f'Epoch {epoch+1}/{EPOCHS}; Loss: {loss.item():.4f}')"
   ]
  },
  {
   "cell_type": "code",
   "execution_count": 10,
   "metadata": {},
   "outputs": [],
   "source": [
    "def predict(model, audio, chroma_req = True, chord_templates:dict = json.load(open('./chord_templates.json')), sr = 44100, hop = 256):\n",
    "    if chroma_req:\n",
    "        chroma = torch.Tensor(librosa.feature.chroma_cens(y=audio, sr = sr, hop_length=hop)).T.unsqueeze(0)\n",
    "    else:\n",
    "        chroma = audio\n",
    "    with torch.no_grad():\n",
    "        outputs = nn.functional.softmax(model(chroma), 1)[0]\n",
    "    min_val = 120\n",
    "    min_key = ''\n",
    "    for key, val in chord_templates.items():\n",
    "        out = torch.norm(torch.Tensor(val) - outputs)\n",
    "        if min_val >= out:\n",
    "            min_val = out\n",
    "            min_key = key\n",
    "    return min_key"
   ]
  },
  {
   "cell_type": "code",
   "execution_count": 11,
   "metadata": {},
   "outputs": [
    {
     "data": {
      "text/plain": [
       "'F#m'"
      ]
     },
     "execution_count": 11,
     "metadata": {},
     "output_type": "execute_result"
    }
   ],
   "source": [
    "y = librosa.load('./data/F#-Minor-9.wav')[0]\n",
    "predict(model, y)"
   ]
  },
  {
   "cell_type": "code",
   "execution_count": 12,
   "metadata": {},
   "outputs": [],
   "source": [
    "def extract_chord_name(file):\n",
    "    main = file[:file.index('-')]\n",
    "    if file[file.index('-')+2]=='i':\n",
    "        return main+'m'\n",
    "    return main"
   ]
  },
  {
   "cell_type": "code",
   "execution_count": 13,
   "metadata": {},
   "outputs": [],
   "source": [
    "chord_templates:dict = json.load(open('./chord_templates.json'))"
   ]
  },
  {
   "cell_type": "code",
   "execution_count": 14,
   "metadata": {},
   "outputs": [
    {
     "name": "stderr",
     "output_type": "stream",
     "text": [
      "  0%|          | 0/58 [00:00<?, ?it/s]"
     ]
    },
    {
     "name": "stderr",
     "output_type": "stream",
     "text": [
      "100%|██████████| 58/58 [00:01<00:00, 29.95it/s]"
     ]
    },
    {
     "name": "stdout",
     "output_type": "stream",
     "text": [
      "Accuracy = 94.83%\n"
     ]
    },
    {
     "name": "stderr",
     "output_type": "stream",
     "text": [
      "\n"
     ]
    }
   ],
   "source": [
    "count = 0\n",
    "for y in tqdm(test_data):\n",
    "    pred = predict(model, y[0].unsqueeze(0), False)\n",
    "    min_val = 120\n",
    "    min_key = ''\n",
    "    for key, val in chord_templates.items():\n",
    "        out = torch.norm(torch.Tensor(val) - y[1])\n",
    "        if min_val >= out:\n",
    "            min_val = out\n",
    "            min_key = key\n",
    "    count+=(pred==min_key)\n",
    "print(f\"Accuracy = {100*count/len(test_data):.2f}%\")"
   ]
  },
  {
   "cell_type": "code",
   "execution_count": 15,
   "metadata": {},
   "outputs": [],
   "source": [
    "torch.save(model.state_dict(), './models/chord_detector.pth')"
   ]
  },
  {
   "cell_type": "code",
   "execution_count": null,
   "metadata": {},
   "outputs": [],
   "source": []
  }
 ],
 "metadata": {
  "kernelspec": {
   "display_name": "Python 3",
   "language": "python",
   "name": "python3"
  },
  "language_info": {
   "codemirror_mode": {
    "name": "ipython",
    "version": 3
   },
   "file_extension": ".py",
   "mimetype": "text/x-python",
   "name": "python",
   "nbconvert_exporter": "python",
   "pygments_lexer": "ipython3",
   "version": "3.10.6"
  }
 },
 "nbformat": 4,
 "nbformat_minor": 2
}
